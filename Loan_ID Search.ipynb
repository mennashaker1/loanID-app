{
 "cells": [
  {
   "cell_type": "code",
   "execution_count": 14,
   "id": "c2f2ee11-4e2e-47f9-bc3d-bf358ca0009f",
   "metadata": {},
   "outputs": [],
   "source": [
    "import dask.dataframe as dd"
   ]
  },
  {
   "cell_type": "code",
   "execution_count": 15,
   "id": "bc8d6853-5a35-4ffe-a78d-75b4213de4ac",
   "metadata": {},
   "outputs": [],
   "source": [
    "import pickle \n",
    "from pathlib import Path\n",
    "import streamlit_authenticator as stauth\n",
    "names = [\"Menna Shaker\", \"Abdelrahman Akmal\"]\n",
    "usernames = [\"mshaker\", \"aakmal\"]\n",
    "passwords = [\"m1234\", \"a1234\"]\n",
    "hashed_passwords = stauth.Hasher(passwords).generate()\n",
    "file_path = Path(\"Streamlit Authenticator Test\").parent / \"hashed_passwords.pkl\"\n",
    "with file_path.open(\"wb\") as file:\n",
    "    pickle.dump(hashed_passwords, file)"
   ]
  },
  {
   "cell_type": "code",
   "execution_count": 16,
   "id": "5643aee4-7e2c-48b6-ba00-fba834a618d9",
   "metadata": {},
   "outputs": [
    {
     "name": "stdout",
     "output_type": "stream",
     "text": [
      "Overwriting loan_ID.py\n"
     ]
    }
   ],
   "source": [
    "%%writefile loan_ID.py\n",
    "\n",
    "import pickle \n",
    "from pathlib import Path\n",
    "\n",
    "import streamlit_authenticator as stauth\n",
    "import streamlit as st\n",
    "\n",
    "\n",
    "# --- User Authentication ---\n",
    "\n",
    "names = [\"Menna Shaker\", \"Abdelrahman Akmal\"]\n",
    "usernames = [\"mshaker\", \"aakmal\"]\n",
    "\n",
    "#Load hashed passwords\n",
    "\n",
    "file_path = Path(\"Streamlit Authenticator Test\").parent / \"hashed_passwords.pkl\"\n",
    "with file_path.open(\"rb\") as file:\n",
    "\thashed_passwords = pickle.load(file)\n",
    "\n",
    "credentials = {\n",
    "        \"usernames\":{\n",
    "            usernames[0]:{\n",
    "                \"name\":names[0],\n",
    "                \"password\":hashed_passwords[0]\n",
    "                },\n",
    "            usernames[1]:{\n",
    "                \"name\":names[1],\n",
    "                \"password\":hashed_passwords[1]\n",
    "                }            \n",
    "            }\n",
    "        }\n",
    "\n",
    "authenticator = stauth.Authenticate(credentials, \"codes\", \"abcdef\", cookie_expiry_days = 0)\n",
    "\n",
    "name, authentication_status, username = authenticator.login(\"Login\", \"main\")\n",
    "authenticator.logout(\"Logout\", \"sidebar\")\n",
    "\n",
    "if authentication_status == False:\n",
    "    st.error(\"Username/password is not correct\")\n",
    "\n",
    "if authentication_status == None:\n",
    "    st.warning(\"Please enter your username and password\")\n",
    "\n",
    "if authentication_status == True:\n",
    "\n",
    "    # Import the necessary modules and functions\n",
    "    from Search_From_CSV import Search_For_Matches  # Assuming Search_From_CSV contains a function to search for matches\n",
    "    import streamlit as st  # Streamlit library for creating a web application\n",
    "    import pandas as pd  # Pandas library for data manipulation\n",
    "    \n",
    "    # Define the main function where the application logic resides\n",
    "    def main():\n",
    "\n",
    "        # Set the title of the web application\n",
    "        st.title('Loan ID Search')\n",
    "        \n",
    "        # Input field for the user to enter the Exxon Code\n",
    "        desired_value = st.text_input('Enter the loan ID:')\n",
    "    \n",
    "        # Check if the 'Search' button is clicked\n",
    "        if st.button('Search'):\n",
    "            if desired_value:\n",
    "                # Call the Search_For_Matches function to find matches\n",
    "                result = Search_For_Matches(desired_value)\n",
    "    \n",
    "                # Check if the result is a Pandas DataFrame\n",
    "                if isinstance(result, pd.DataFrame):\n",
    "                    # Display matching codes if found\n",
    "                    st.write('Matching loan ID:')\n",
    "                    st.write(result)\n",
    "                else:\n",
    "                    # Display an error message if there was an issue with the search\n",
    "                    st.write(result)\n",
    "            else:\n",
    "                # Display a warning if the user didn't provide any input\n",
    "                st.warning('Please Fill all required entries')\n",
    "    \n",
    "    # Call the main function to start the web application\n",
    "    main()"
   ]
  },
  {
   "cell_type": "code",
   "execution_count": null,
   "id": "89ba9a31-9f60-4fda-85d1-9225518d61a9",
   "metadata": {},
   "outputs": [],
   "source": []
  },
  {
   "cell_type": "code",
   "execution_count": null,
   "id": "9f8eec8f-107b-4907-b969-3dd385bac44e",
   "metadata": {},
   "outputs": [],
   "source": []
  }
 ],
 "metadata": {
  "kernelspec": {
   "display_name": "Python 3 (ipykernel)",
   "language": "python",
   "name": "python3"
  },
  "language_info": {
   "codemirror_mode": {
    "name": "ipython",
    "version": 3
   },
   "file_extension": ".py",
   "mimetype": "text/x-python",
   "name": "python",
   "nbconvert_exporter": "python",
   "pygments_lexer": "ipython3",
   "version": "3.11.5"
  }
 },
 "nbformat": 4,
 "nbformat_minor": 5
}
